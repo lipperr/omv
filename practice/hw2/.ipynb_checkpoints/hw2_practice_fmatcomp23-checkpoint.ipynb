{
 "cells": [
  {
   "cell_type": "markdown",
   "metadata": {
    "id": "ZELSweDvTyN6"
   },
   "source": [
    "# Практическое ДЗ-2. Использование ALS для построения рекомендательной модели"
   ]
  },
  {
   "cell_type": "markdown",
   "metadata": {
    "id": "Yf0VwGfTTyN6"
   },
   "source": [
    "В этой задаче мы построим простую рекомендательную модель на основе малоранговых приближений. "
   ]
  },
  {
   "cell_type": "code",
   "execution_count": 1,
   "metadata": {
    "id": "Fhwokt4cTyN7"
   },
   "outputs": [],
   "source": [
    "import numpy as np\n",
    "import scipy.sparse\n",
    "import matplotlib.pyplot as plt\n",
    "import tensorly\n",
    "%matplotlib inline"
   ]
  },
  {
   "cell_type": "markdown",
   "metadata": {
    "id": "EJ3WCOxFTyN_"
   },
   "source": [
    "### Подготовка датасета\n",
    "Загрузите датасет movielens10m с [grouplens.org](https://grouplens.org/datasets/movielens/10m/) или [disk.yandex.ru](https://disk.yandex.ru/d/HIjLehGZEcCRig) и положите архив в папку `data`. Нас будет интересовать файл `ratings.dat`, в котором собраны оценки пользователями различных фильмов с сервиса movielens.org. Вытащим этот файл из архива. Как можно узнать из соответствующей [странички](http://files.grouplens.org/datasets/movielens/ml-10m-README.html#file_desc), этот файл имеет формат `UserID::MovieID::Rating::Timestamp`. Сразу позаботимся, чтобы id пользователей и фильмов начинались с нуля (в самом файле индексация с единицы)."
   ]
  },
  {
   "cell_type": "code",
   "execution_count": 7,
   "metadata": {
    "id": "JJJ8tRX-TyN_",
    "scrolled": true
   },
   "outputs": [],
   "source": [
    "import zipfile\n",
    "user_ids = []\n",
    "movie_ids = []\n",
    "ratings = []\n",
    "with zipfile.ZipFile('data/ml-10m.zip') as archive:\n",
    "    with archive.open('ml-10M100K/ratings.dat') as f:\n",
    "        for l in f:\n",
    "            user, movie, rating, _ = l.split(b'::')\n",
    "            user_ids.append(int(user) - 1)\n",
    "            movie_ids.append(int(movie) - 1)\n",
    "            ratings.append(float(rating))"
   ]
  },
  {
   "cell_type": "markdown",
   "metadata": {
    "id": "vcVcCOT8TyOA"
   },
   "source": [
    "Составим матрицу рейтингов $A \\in \\mathbb R^{m \\times n}$, индексируемую номером пользователем и номером фильма.\n",
    "Для простоты мы будем делить отзывы только на положительные (`Rating >= 4` &mdash; $A_{i,j}=1$) и отрицательные (`Rating < 4` &mdash; $A_{i,j} = 0$), таким образом, матрица у нас получится состоящей только из нулей и единиц.\n",
    "Обратите внимание, что матрица будет разреженной, так как средний пользователь оценил относительно мало фильмов. Поэтому мы будем пользоваться библиотекой `scipy.sparse`. Хранить матрицу мы будем в формате хранения разреженных матриц [CSR](https://en.wikipedia.org/wiki/Sparse_matrix#Compressed_sparse_row_(CSR,_CRS_or_Yale_format)), который поддерживает матричное умножение на numpy массивы: ```A @ X ```."
   ]
  },
  {
   "cell_type": "code",
   "execution_count": 8,
   "metadata": {
    "id": "Via3f58zTyOA",
    "scrolled": true
   },
   "outputs": [
    {
     "name": "stdout",
     "output_type": "stream",
     "text": [
      "Shape: (71567, 65133)\n",
      "Ratio of nonzero elements: 0.0010738646228571796\n"
     ]
    }
   ],
   "source": [
    "from scipy.sparse import csr_matrix\n",
    "A = csr_matrix((np.array(ratings) >= 4, (user_ids, movie_ids)), dtype=np.float32)\n",
    "A.eliminate_zeros()\n",
    "print(\"Shape:\", A.shape)\n",
    "print(\"Ratio of nonzero elements:\", A.nnz / (A.shape[0] * A.shape[1]))"
   ]
  },
  {
   "cell_type": "markdown",
   "metadata": {
    "id": "n7IH4xmRTyOB"
   },
   "source": [
    "Отделим некоторое количество пользователей для последующей проверки. Используем стандартное разбиение train/test 80/20."
   ]
  },
  {
   "cell_type": "code",
   "execution_count": 9,
   "metadata": {
    "id": "hkVwyh5BTyOB"
   },
   "outputs": [],
   "source": [
    "n_users, n_movies = A.shape\n",
    "n_test = int(n_users * 0.2)\n",
    "n_train = n_users - n_test\n",
    "idx = np.arange(n_users)\n",
    "np.random.shuffle(idx)\n",
    "test_idx, train_idx = idx[:n_test], idx[n_test:]\n",
    "A_test, A_train = A[test_idx,:], A[train_idx,:]"
   ]
  },
  {
   "cell_type": "markdown",
   "metadata": {
    "id": "1yD1HCUByDHB"
   },
   "source": [
    "Далее в задаче мы будем строить рекомендации пользователям на основе малорангового приближения матрицы $A$ (матрицы $A_{train}$ в рамках обозначений выше). \n",
    "Обратим внимание, что из-за ограничений по памяти мы не можем сформировать матрицу $A$ в виде numpy массива, а значит теряем доступ к ```np.linalg.svd```. Поэтому мы будем реализовывать метод ALS, в котором требуется только умножение на матрицы $A$ и $A^\\top$, что поддерживается разреженными форматами хранения матриц (CSR, COO и тд).\n",
    "\n",
    "### a. (35 баллов) Вычисление вспомогательных функционалов\n",
    "\n",
    "  1. **(15 баллов)** Напомним, что в методе ALS решается задача минимизации функционала $f(U, V^\\top) = \\|A - UV^\\top\\|_F$ по всем $U \\in \\mathbb R^{m \\times r}$ и $V  \\in \\mathbb R^{n \\times r}$. Первым делом вам нужно будет написать функцию `als_functional` для вычисления оптимизируемого функционала $\\|A - UV^\\top\\|_F$ для заданных $A$, $U$, $V^\\top$. Заметьте, что прямое вычисление этой нормы &mdash; очень трудоёмкая задача, ведь разность будет плотной матрицей. Для того, чтобы эффективно вычислить норму разности, распишите $\\|A - UV^\\top\\|_F^2$ через скалярное произведение $\\langle X,Y \\rangle_F = \\mathrm{Tr}\\,(X^\\top Y)$, выполните алгебраические преобразования и покажите, как эффективно вычислить каждый член в полученном выражении. Имеется в виду, что ни на каком этапе вы не должны явно формировать плотные матрицы размеров `A.shape` (хотя numpy, скорее всего, и откажется аллоцировать 37 ГБ под такой массив).\n",
    "  \n",
    "  **Замечание**: не используйте циклы по ненулевым элементам разреженной матрицы $A$. Убедитесь, что в ваши формулы входит только умножение на матрицы $A$ или $A^\\top$, на которые можно умножать посредством @; либо умножения сложности $O(mr^2), O(nr^2)$. Также отметим, что норма матрицы $A$ уже дана, заново её вычислять не надо. Везде считайте $r < m, n$."
   ]
  },
  {
   "cell_type": "markdown",
   "metadata": {},
   "source": [
    "**Вычисления и сложность:**"
   ]
  },
  {
   "cell_type": "markdown",
   "metadata": {},
   "source": [
    "$$ Tr((A-UV^T)^T(A-UV^T)) = Tr((A^T-VU^T)(A-UV^T)) = Tr(A^TA + A^TUV^T - VU^TA + (VU^T)(UV^T)) = $$\n",
    "$$ = \\lVert A \\rVert_{F}^2 - 2Tr(A^TUV^T) + Tr(V^TVU^TU) = \\lVert A \\rVert_{F}^2 - 2Tr((V^TA^T)U) + Tr((V^TV)(U^TU))$$"
   ]
  },
  {
   "cell_type": "markdown",
   "metadata": {},
   "source": [
    "Вычисление $V^TA^T$ разрешено, получается матрица размера $r\\times m$, вычисление прозведения матриц размеров $r\\times m$ $(V^TA^T)$ и $m\\times r$ $(U)$ имеет сложность $O(mr^2)$. \n",
    "\n",
    "$V^TV$ : $r\\times n \\times n \\times r$, $O(nr^2)$. \n",
    "\n",
    "$U^TU$ : $r\\times m \\times m \\times r$, $O(mr^2)$. \n",
    "\n",
    "$V^TVU^TU$ : $r\\times r \\times r\\times r$, $O(r^3)$. \n",
    "Итоговая сложность: $O(max(m, n)r^2)$."
   ]
  },
  {
   "cell_type": "code",
   "execution_count": 10,
   "metadata": {
    "id": "U9ZqSC1_TyOC"
   },
   "outputs": [],
   "source": [
    "def als_functional(A, A_norm, U, VT):\n",
    "    a_norm_sq = A_norm ** 2\n",
    "    TrVtAtU = np.trace((VT @ A.T) @ U)\n",
    "    TrVtVUtU = np.trace((VT @ VT.T) @ (U.T @ U))\n",
    "    res = a_norm_sq - 2 * TrVtAtU + TrVtVUtU\n",
    "    return np.sqrt(res)\n"
   ]
  },
  {
   "cell_type": "markdown",
   "metadata": {
    "id": "NqrSPQn0LR4H"
   },
   "source": [
    "**Замечание:** Если вы не сможете выполнить следующие два пункта, можете их пропустить. Они не являются обязательными для следующих заданий."
   ]
  },
  {
   "cell_type": "markdown",
   "metadata": {
    "id": "g5GU38ZfTyOD"
   },
   "source": [
    "  2. **(10 баллов)** Ещё одной метрикой сходимости ALS-процесса, помимо стабилизации самого функционала, может служить так называемое расстояние между подпространствами. Расстоянием между подпространствами $L_1 \\subset \\mathbb{R}^m$ и $L_2 \\subset \\mathbb{R}^m$ будем называть число $\\|P(L_1) - P(L_2)\\|_2$, где $P(L_i)$ &mdash; ортопроектор на $L_i$. Опишите алгоритм вычисления расстояния между двумя подпространствами $\\mathrm{Im}(U_1)$ и $\\mathrm{Im}(U_2)$ для заданных матриц $U_1, U_2 \\in \\mathbb{R}^{m \\times r}$ с ортонормированными столбцами (т.е. $U_i^T U_i = I$). Алгоритм должен иметь сложность $O(mr^2)$. **Подсказка.** Воспользуйтесь фактом, что ортопроекторы являются матрицами малого ранга $r$, и техникой малоранговой арифметики, описанной на соответствующих лекции и семинаре."
   ]
  },
  {
   "cell_type": "markdown",
   "metadata": {
    "id": "z7Fxh5EDTyOD"
   },
   "source": [
    "**YOUR WORDS GO HERE**\n",
    "$U_1, U_2$ - полноранговые, $\\Longrightarrow$ ортопроекторы на $Im(U_1)$ и  $Im(U_2)$- это $U_1U_1^T$ и $U_2U_2^T$\n",
    "\n",
    "$\\lVert U_1U_1^T - U_2U_2^T \\rVert_{2} = \\{$лекция 3, слайд 21$\\} = \\lVert [U_1U_2][U_1 -U_2]^T\\rVert_{2} = \\lVert Q_1R_1(Q_2R_2)^T \\rVert_{2} = \\lVert Q_1R_1R_2^TQ_2 \\rVert_{2} = \\lVert Q_1U\\Sigma V^TQ_2 \\rVert_{2}$ - получили SVD разложение.\n",
    "\n",
    "QR разложение для матрицы $[U_1U_2]$ размера $m \\times 2r$ работает за $O(mr^2)$, аналогично для $[U_1-U_2]$.\n",
    "SVD разложение для марицы $[R_1R_2^T]$ размера максимум $2r \\times 2r$ разботает за $O(r^2)$.\n",
    "Далее для вычисления нормы нужно взять элемент $\\Sigma_{11}$.\n",
    "Итоговая сложность $O(mr^2)$.\n"
   ]
  },
  {
   "cell_type": "markdown",
   "metadata": {
    "id": "XjH9NjfATyOD"
   },
   "source": [
    "  3. **(10 баллов)** Напишите функцию `dist_between_subspaces`, принимающую на вход матрицы $U_1, U_2 \\in \\mathbb{R}^{m\\times r}$ с ортонормированными столбцами, и возвращающую расстояние от $\\mathrm{Im}(U_1)$ до $\\mathrm{Im}(U_2)$. Сложность алгоритма должна быть $O(mr^2)$."
   ]
  },
  {
   "cell_type": "code",
   "execution_count": 11,
   "metadata": {
    "id": "YiBRvfriTyOD"
   },
   "outputs": [],
   "source": [
    "def dist_between_subspaces(U1, U2):\n",
    "    U_ = np.concatenate((U1, U2), axis=1)\n",
    "    _, R1 = np.linalg.qr(U_)\n",
    "    V_ = np.concatenate((U1, -U2), axis=1)\n",
    "    _, R2 = np.linalg.qr(V_)\n",
    "    \n",
    "    _, Sigma, _ = np.linalg.svd(R1@R2.T)\n",
    "    return Sigma[0]"
   ]
  },
  {
   "cell_type": "markdown",
   "metadata": {
    "id": "Rzuzjg7qTyOE"
   },
   "source": [
    "### b. (30 баллов) Метод ALS\n",
    "Реализуйте метод ALS (alternating least squares) с ортогонализацией (см. лекции).\n",
    "\n",
    "Вам будет необходимо вернуть две матрицы: $U$ и $V^\\top$, образующие скелетное разложение результирующего приближения; где $U$ имеет ортонормированные столбцы. Также нужно вернуть 3 списка:\n",
    "\n",
    "\n",
    "*   Список значений функционала $f(U_k, V^\\top_k) = \\|A - U_k V^\\top_k\\|_F$\n",
    "\n",
    "*   Список изменений значений функционала $\\delta_k = f(U_{k-1}, V^\\top_{k-1}) - f(U_k, V^\\top_k)$\n",
    "\n",
    "*   Список растояний между пространствами $\\|P(U_{k-1}) - P(U_{k})\\|_2$\n",
    "\n",
    "В качестве критерия остановки будем использовать величину $\\delta_k$. При значении $\\delta_k \\le tolerance$ алгоритм должен остановиться. При указании `debug=True` печатайте номер текущей итерации и последнюю $\\delta_k$, а также любую дополнительную интересную вам информацию. \n",
    "\n",
    "Используйте реализованные выше функции. Для вычисления фробениусовой нормы разреженной матрицы используйте `norm` из `scipy.sparse.linalg`.\n",
    "\n",
    "**Замечание:** Если вы не реализовали dist_between_subspaces, то вместо третьего списка возращайте None."
   ]
  },
  {
   "cell_type": "code",
   "execution_count": 12,
   "metadata": {},
   "outputs": [],
   "source": [
    "from scipy.stats import ortho_group"
   ]
  },
  {
   "cell_type": "code",
   "execution_count": 13,
   "metadata": {},
   "outputs": [],
   "source": [
    "def gen_fixed_rank(r, x):\n",
    "    a = ortho_group.rvs(dim=r)\n",
    "    b = np.random.rand(r, x-r).T\n",
    "    M = np.concatenate((a, b), axis=0)\n",
    "    Q, _ = np.linalg.qr(M)\n",
    "#     print(Q.shape,np.linalg.matrix_rank(Q))\n",
    "    return Q"
   ]
  },
  {
   "cell_type": "code",
   "execution_count": 14,
   "metadata": {
    "id": "syRWnqliTyOE"
   },
   "outputs": [],
   "source": [
    "from scipy.sparse.linalg import norm as sparse_norm\n",
    "\n",
    "def ALS(A, rank, tolerance=1e-2, debug=False):\n",
    "    fs, deltas, dists = [], [], []\n",
    "    \n",
    "    m, n = A.shape\n",
    "    U = gen_fixed_rank(rank, m)\n",
    "    V = gen_fixed_rank(rank, n)\n",
    "\n",
    "    A_norm = scipy.sparse.linalg.norm(A)\n",
    "    f = als_functional(A, A_norm, U, V.T)\n",
    "    fs.append(f)\n",
    "    f_prev = f + 1 + tolerance\n",
    "    i = 0\n",
    "    while f_prev - f > tolerance:\n",
    "        U0 = A @ V\n",
    "        Q1, _ = np.linalg.qr(U0)\n",
    "        dists.append(dist_between_subspaces(U, Q1))\n",
    "        U = Q1\n",
    "\n",
    "        V = A.T @ Q1\n",
    "        f_prev = f\n",
    "        f = als_functional(A, A_norm, U, V.T)\n",
    "        \n",
    "\n",
    "        deltas.append(f_prev - f)\n",
    "        if debug:\n",
    "            print('текущая итерация', i, 'delta', deltas[-1])\n",
    "        i += 1\n",
    "        \n",
    "        fs.append(f)\n",
    "        \n",
    "    return U, V.T, fs, deltas, dists\n"
   ]
  },
  {
   "cell_type": "markdown",
   "metadata": {
    "id": "L6dYV_Y0TyOE"
   },
   "source": [
    "Запустим метод на матрице `A_train` и посмотрим на убывание расстояния между соседними подпространствами от номера итерации."
   ]
  },
  {
   "cell_type": "code",
   "execution_count": 15,
   "metadata": {
    "id": "8jOy0WGPTyOE"
   },
   "outputs": [
    {
     "name": "stdout",
     "output_type": "stream",
     "text": [
      "текущая итерация 0 delta 220.20298649255665\n",
      "текущая итерация 1 delta 121.21134349051795\n",
      "текущая итерация 2 delta 14.646723228484234\n",
      "текущая итерация 3 delta 4.087348226385302\n",
      "текущая итерация 4 delta 1.5915343741733068\n",
      "текущая итерация 5 delta 0.75913414917909\n",
      "текущая итерация 6 delta 0.43166570400239834\n",
      "текущая итерация 7 delta 0.2801618370547203\n",
      "текущая итерация 8 delta 0.19723751278547752\n",
      "текущая итерация 9 delta 0.1452399690265338\n",
      "текущая итерация 10 delta 0.10971397853813869\n",
      "текущая итерация 11 delta 0.08422181176706545\n"
     ]
    },
    {
     "data": {
      "image/png": "[encoded data removed]",
      "text/plain": [
       "<Figure size 864x360 with 2 Axes>"
      ]
     },
     "metadata": {
      "needs_background": "light"
     },
     "output_type": "display_data"
    }
   ],
   "source": [
    "rank = 30\n",
    "U_als, VT_als, fs, deltas, dists = ALS(A_train, rank, 0.1, debug=True)\n",
    "\n",
    "fig, axs = plt.subplots(figsize=(12, 5), ncols=2)\n",
    "\n",
    "axs[0].plot(fs)\n",
    "axs[1].plot(deltas)\n",
    "axs[1].semilogy();"
   ]
  },
  {
   "cell_type": "code",
   "execution_count": 16,
   "metadata": {
    "id": "SjD9StBsZmn2"
   },
   "outputs": [
    {
     "data": {
      "image/png": "[encoded data removed]",
      "text/plain": [
       "<Figure size 432x288 with 1 Axes>"
      ]
     },
     "metadata": {
      "needs_background": "light"
     },
     "output_type": "display_data"
    }
   ],
   "source": [
    "# если выполнили a.3\n",
    "\n",
    "plt.plot(dists);"
   ]
  },
  {
   "cell_type": "markdown",
   "metadata": {
    "id": "LbvYe-FlTyOF"
   },
   "source": [
    "### c. (10 баллов) Сравнение с рандомизированным SVD и разреженным SVD\n",
    "\n",
    "Примените рандомизированное SVD из sklearn, а также SVD из scipy, поддерживающее разреженные матрицы (используйте тот же ранг 30, что и для ALS). Сравните все три результата по значению функционала."
   ]
  },
  {
   "cell_type": "code",
   "execution_count": 17,
   "metadata": {
    "id": "y8XbjL63TyOF"
   },
   "outputs": [
    {
     "name": "stdout",
     "output_type": "stream",
     "text": [
      "Als 1637.140909323074\n",
      "Sklearn 1636.9250246003535\n",
      "Scipy 1636.8271628864386\n"
     ]
    }
   ],
   "source": [
    "from sklearn.utils.extmath import randomized_svd\n",
    "from scipy.sparse.linalg import svds\n",
    "\n",
    "A_norm = sparse_norm(A_train)\n",
    "u1, s1, vh1 = randomized_svd(A_train, n_components=30)\n",
    "\n",
    "u2, s2, vh2 = svds(A_train, k=30)\n",
    "\n",
    "f1 = als_functional(A_train, A_norm, U_als, VT_als)\n",
    "f2 = als_functional(A_train, A_norm, u1, np.diag(s1) @ vh1)\n",
    "f3 = als_functional(A_train, A_norm, u2, np.diag(s2) @ vh2)\n",
    "\n",
    "print('Als', f1)\n",
    "print('Sklearn', f2)\n",
    "print('Scipy', f3)"
   ]
  },
  {
   "cell_type": "markdown",
   "metadata": {},
   "source": [
    "**Как видно, все способы показывают похожие результаты**"
   ]
  },
  {
   "cell_type": "markdown",
   "metadata": {
    "id": "HKZ40jk8TyOF"
   },
   "source": [
    "## d. (25 баллов) Построение рекомендаций\n",
    "  1. **(10 баллов)** Научимся рекомендовать пользователям из тестовой группы фильмы на основе части их оценок. Напишем функцию `recommend`, которая будет принимать матрицу $V^\\top$ из нашей модели, матрицу `(user_id, movie_id) -> binary rating` (то есть того же формата, что и наша основная матрица `A`), а также число `n_recs` &mdash; количество фильмов, которые мы хотим порекомендовать. Возвращать функция будет top-`n_recs` рекомендаций, то есть `n_recs` фильмов, которые могут пользователю понравиться, в порядке убывания предсказанной привлекательности.\n",
    "\n",
    "  Чтобы построить рекомендацию, необходимо ортогонально спроецировать вектор, соответствующий новому пользователю (про которого мы знаем часть оценок), на пространство $L$, образуемое строками матрицы $V^\\top$. Иными словами, мы должны взять ближайший вектор из $L$. Он будет содержать предсказанные нашей моделью рейтинги. Дальше дело техники :) Но не забудьте, что `known_ratings` содержит векторы, соответствующие не одному пользователю, а батчу из `batch_size` пользователей. Хотя и (слава numpy) код остаётся почти дословно такой же.  **Подсказка:** используйте функцию `np.argsort`."
   ]
  },
  {
   "cell_type": "code",
   "execution_count": 18,
   "metadata": {
    "id": "_Q3lIQY7TyOG"
   },
   "outputs": [],
   "source": [
    "def recommend(VT, known_ratings, n_recs):\n",
    "    Q, R = np.linalg.qr(VT.T)\n",
    "    rec = Q @ (Q.T @ known_ratings.T)\n",
    "    recs = np.flip((np.argsort(np.abs(rec), axis = 0)[-n_recs:, :].T), axis = 1)\n",
    "    return recs"
   ]
  },
  {
   "cell_type": "markdown",
   "metadata": {
    "id": "j9Ub94g2TyOG"
   },
   "source": [
    "Для проверки нашей модели для каждого пользователя из тестовой выборки оценим так называемый **hit rate**. Для этого выбросим одну из его оценок, вызовем функцию `recommend` и посмотрим, попал ли выкинутый фильм в подборку. Если попал &mdash; это hit, иначе не hit. Для того, чтобы эффективно проделать этот эксперимент на всех тестовых данных, сделаем следующее: разобьём тестовую матрицу на батчи по 500 пользователей и будем предсказывать сразу для целого батча. Вычислим вектор размера `n_test`, где для каждого пользователя указано, на каком месте в рекомендованной подборке оказался скрытый фильм (или число `n_recs`, если скрытого фильма не нашлось среди top-n  рекомендаций)."
   ]
  },
  {
   "cell_type": "code",
   "execution_count": 19,
   "metadata": {
    "id": "ZJV-DwZOTyOG"
   },
   "outputs": [],
   "source": [
    "from scipy.sparse import find\n",
    "\n",
    "def evaluate_model(VT, A_test, n_recs, batch_size=500):\n",
    "    \"\"\"\n",
    "        Input\n",
    "            VT: 2D numpy array representing the rating model\n",
    "            A_test: sparse n_test x n_movies array corresponding to new users\n",
    "            n_recs: requested number of recommendations\n",
    "            batch_size: number of users to build recommendations for in a single call to recommend\n",
    "\n",
    "        Output\n",
    "            hit_idx: list of n_test ints: place of secret movie \n",
    "                     in top-n_recs recommendations (or n_recs if it is missing)\n",
    "    \"\"\"\n",
    "    \n",
    "    secrets = []\n",
    "    nonempty_users = []\n",
    "    A_test = A_test.copy()\n",
    "    for user in range(A_test.shape[0]):\n",
    "        _, good, _ = find(A_test[user,:])\n",
    "        if len(good) == 0:\n",
    "            continue\n",
    "        nonempty_users.append(user)\n",
    "        secret = np.random.choice(good, 1)[0]\n",
    "        A_test[user, secret] = 0\n",
    "        secrets.append(secret)\n",
    "    hit_idx = []\n",
    "    for i in range(0, len(nonempty_users), batch_size):\n",
    "        # Build recomendations for a batch.\n",
    "        recommendations = recommend(VT, A_test[nonempty_users[i:i + batch_size], :], n_recs + 1)\n",
    "        # Place secret in the last column so that the following .argmax finds it.\n",
    "        recommendations[:,-1] = secrets[i: i + batch_size]\n",
    "        # Find secret among the recommendations and place its index into batch_hit_idx.\n",
    "        batch_hit_idx = (recommendations == np.array([secrets[i:i + batch_size]]).T).argmax(1)\n",
    "        hit_idx += batch_hit_idx.tolist()\n",
    "    return hit_idx"
   ]
  },
  {
   "cell_type": "markdown",
   "metadata": {
    "id": "BTSTcoZyTyOG"
   },
   "source": [
    "  2. **(15 баллов)** Научимся вычислять hit rate для данной модели и заданного количества top-n рекомендаций. Для этого напишем функцию `get_hit_rates`, которая будет принимать $V^\\top$ из нашей модели, вектора оценок для новых пользователей `A_test` и список натуральных чисел `n_recs`. Для каждого из этих чисел необходимо посчитать средний hit rate по всем пользователям из `A_test`, то есть, например, для `n_recs == [5, 10, 20]` нужно вернуть список средних хитрейтов для top-5, top-10 и top-20. **Обратите внимание:** вызвать функцию `evaluate_model` нужно только один раз."
   ]
  },
  {
   "cell_type": "code",
   "execution_count": 20,
   "metadata": {
    "id": "rjpcCThdTyOH"
   },
   "outputs": [],
   "source": [
    "def get_hit_rates(VT, A_test, n_recs):\n",
    "    hit_idx = evaluate_model(VT, A_test, max(n_recs))\n",
    "    hit_rates = []\n",
    "    for n in n_recs:\n",
    "        hit_rates.append((np.array(hit_idx) < n).mean() * 100)\n",
    "    return  hit_rates"
   ]
  },
  {
   "cell_type": "markdown",
   "metadata": {
    "id": "wYXL52ivTyOH"
   },
   "source": [
    "Проверьте себя: вычислите хитрейт на top-10 рекомендаций для Sparse SVD ранга 30. Чтобы вычисления рекомендаций были побыстрее, используйте не всю матрицу `A_test`, а, например, первые 1000 строк. Хитрейт должен получится в районе 12-15%. Самое время подебажить своё решение, если числа сильно расходятся."
   ]
  },
  {
   "cell_type": "code",
   "execution_count": 21,
   "metadata": {
    "id": "GDg20id6TyOH"
   },
   "outputs": [],
   "source": [
    "U, VT = ALS(A_test[:1000], 30)[:2]\n"
   ]
  },
  {
   "cell_type": "code",
   "execution_count": 22,
   "metadata": {},
   "outputs": [
    {
     "name": "stdout",
     "output_type": "stream",
     "text": [
      "[13.182286302780637]\n",
      "[11.637487126673532]\n",
      "[13.491246138002062]\n",
      "[12.667353244078269]\n",
      "[14.315139031925849]\n",
      "[13.594232749742533]\n",
      "[11.328527291452112]\n",
      "[9.680741503604532]\n",
      "[10.401647785787848]\n",
      "[12.049433573635428]\n"
     ]
    }
   ],
   "source": [
    "for _ in range(10):\n",
    "    print(get_hit_rates(VT, A_test[:1000], [10]))\n"
   ]
  },
  {
   "cell_type": "markdown",
   "metadata": {
    "id": "BA5GzyK3TyOH"
   },
   "source": [
    "Теперь можно построить графики зависимости hit rate от количества рекомендаций, а также от ранга модели. Сравним результаты, которые дают три алгоритма: ALS, Sparse SVD и рандомизированный SVD."
   ]
  },
  {
   "cell_type": "code",
   "execution_count": 23,
   "metadata": {
    "id": "SgWOKFW1TyOH"
   },
   "outputs": [
    {
     "data": {
      "image/png": "[encoded data removed]",
      "text/plain": [
       "<Figure size 1440x288 with 3 Axes>"
      ]
     },
     "metadata": {
      "needs_background": "light"
     },
     "output_type": "display_data"
    }
   ],
   "source": [
    "from scipy.sparse.linalg import svds\n",
    "\n",
    "n_recs = list(range(5, 101, 5))\n",
    "\n",
    "plt.rcParams.update({'font.size': 14})\n",
    "_, (ax_svd, ax_als, ax_rand) = plt.subplots(1,3,figsize=(20, 4),sharey=True)\n",
    "\n",
    "ax_svd.set_title(\"SVD\")\n",
    "ax_svd.set_ylabel(\"Hit rate\")\n",
    "ax_als.set_title(\"ALS\")\n",
    "ax_rand.set_title(\"Rand SVD\")\n",
    "for rank in [5, 25, 50]:\n",
    "    _, _, VT_svd = svds(A_train, k=rank)\n",
    "    _, VT_als, _, _, _ = ALS(A_train, rank)\n",
    "    _, _, VT_rand = randomized_svd(A_train, rank)\n",
    "    for VT, ax in zip([VT_svd, VT_als, VT_rand], [ax_svd, ax_als, ax_rand]):\n",
    "        ax.set_xlabel(\"Number of recomendations\")\n",
    "        hit_rates = get_hit_rates(VT, A_test[:1000,:], n_recs)\n",
    "        line, = ax.plot(n_recs, hit_rates)\n",
    "        line.set_label('rank = {}'.format(rank))\n",
    "        ax.legend()"
   ]
  },
  {
   "cell_type": "markdown",
   "metadata": {
    "id": "AXwiSVujTyOH"
   },
   "source": [
    "Какой ранг приближения оказался оптимальным для нашей модели в случае каждого алгоритма?"
   ]
  },
  {
   "cell_type": "markdown",
   "metadata": {
    "id": "4u_qcZU_8e_q"
   },
   "source": [
    "**Ранг 25 показывает наилучшие результаты, хотя иногда ранг 25 и 50 примерно одинаково работают в случае ALS (несколько раз запускала - получалось по-разному).**\n"
   ]
  },
  {
   "cell_type": "markdown",
   "metadata": {
    "id": "ckrRNR8FTyOI"
   },
   "source": [
    "## Бонус. Higher-order SVD (100 баллов)"
   ]
  },
  {
   "cell_type": "markdown",
   "metadata": {
    "id": "F4CTYLs114Kw"
   },
   "source": [
    "**В бонусе разрешается использовать циклы только по размерности.**"
   ]
  },
  {
   "cell_type": "markdown",
   "metadata": {
    "id": "KEv9r59gTyOI"
   },
   "source": [
    "1. (**20 баллов**) Напишите функцию ```tuck2full(G, Us)```, возвращающую полный тензор размера $n_1\\times n_2 \\times \\ldots \\times n_d$ по его разложению Таккера. Предусмотрите, чтобы функция работала и в случае, если в матрицах $U_1,U_2, \\ldots, U_d$ строк меньше, чем столбцов. Вместо циклов используйте функцию ```np.einsum```."
   ]
  },
  {
   "cell_type": "markdown",
   "metadata": {},
   "source": [
    "$$G \\rightarrow G_{(k)} - новое \"ядро\", r_k \\rightarrow n_k$$ \n",
    "$$U_k*G_{(k)} \\rightarrow G_k$$"
   ]
  },
  {
   "cell_type": "code",
   "execution_count": 2,
   "metadata": {},
   "outputs": [],
   "source": [
    "def tuck2full(G, Us):\n",
    "\n",
    "    R = G.shape\n",
    "    d = len(R)\n",
    "    new_shape = list(R)\n",
    "    P = G.copy()\n",
    "    \n",
    "\n",
    "    for k in range(d):\n",
    "        order = list(range(d))\n",
    "        order[0], order[k] = order[k], order[0]\n",
    "        Gk = np.transpose(P, order)\n",
    "        Gk = np.reshape(Gk, (R[k], np.prod(new_shape) // R[k]), order='f')\n",
    "        Gk = np.einsum('ij, jk -> ik', Us[k], Gk)\n",
    "        new_shape[k] = Us[k].shape[0]\n",
    "        to_reshape = new_shape.copy()\n",
    "        to_reshape[0], to_reshape[k] = to_reshape[k], to_reshape[0]\n",
    "        P = np.reshape(Gk, to_reshape, order='f')\n",
    "        P = np.transpose(P, order)\n",
    "    return P\n",
    "\n"
   ]
  },
  {
   "cell_type": "markdown",
   "metadata": {
    "id": "miBsDExrTyOI"
   },
   "source": [
    "2. (**35 баллов**) Реализуйте higher-order SVD алгоритм для нахождения разложения Таккера данного $d$-мерного массива $A\\in\\mathbb{R}^{n_1\\times \\ldots \\times n_d}$. Алгоритм должен находить малоранговое приближение $A$ с относительной точностью не хуже $\\varepsilon$ во Фробениусовой норме. Функция должна вернуть ядро и факторы Таккера у приближающего тензора. Для получения ядра Таккера будет удобно воспользоваться функцией ```tuck2full```."
   ]
  },
  {
   "cell_type": "code",
   "execution_count": 3,
   "metadata": {},
   "outputs": [],
   "source": [
    "from sklearn.utils.extmath import randomized_svd"
   ]
  },
  {
   "cell_type": "code",
   "execution_count": 4,
   "metadata": {},
   "outputs": [],
   "source": [
    "def get_best(Ak, eps, maxr=10):\n",
    "    A_norm = np.linalg.norm(Ak)\n",
    "    U, _, _ = randomized_svd(Ak, maxr)\n",
    "    \n",
    "    tolerance = eps * A_norm\n",
    "    for k in range(maxr, 0, -1):\n",
    "        if np.linalg.norm(Ak - U[:, :k] @ U[:, :k].T @ Ak) >= tolerance:\n",
    "            break\n",
    "    return U[:, :k]"
   ]
  },
  {
   "cell_type": "code",
   "execution_count": 5,
   "metadata": {
    "id": "1hgVftQgTyOI"
   },
   "outputs": [],
   "source": [
    "def hosvd(A, eps):\n",
    "    n = A.shape\n",
    "    Ust = []\n",
    "    Us = []\n",
    "    epsk = eps / np.sqrt(len(n))\n",
    "    for k in range(len(A.shape)):\n",
    "        order = list(range(len(A.shape)))\n",
    "        order[0], order[k] = order[k], order[0]\n",
    "        Ak = np.transpose(A, order)\n",
    "        Ak = np.reshape(Ak, (n[k], np.prod(A.shape)//n[k]), order='f')\n",
    "        \n",
    "        maxr = np.linalg.matrix_rank(Ak) if eps != 0 else 10\n",
    "        Uk = get_best(Ak, epsk)\n",
    "        Ust.append(Uk.T)\n",
    "        Us.append(Uk)\n",
    "        \n",
    "    t_core = tuck2full(A, Ust)\n",
    "    Us = tuple(Us)\n",
    "    return t_core, Us"
   ]
  },
  {
   "cell_type": "markdown",
   "metadata": {
    "id": "KKuGY2KdTyOI"
   },
   "source": [
    "3. (**5 баллов**) Примените функцию ```hosvd``` к тензору размера $25 \\times 50 \\times 75 \\times 100$ с элементами\n",
    "$$\n",
    "    a_{ijkl} = \\frac{1}{i + j + k + l + 1}, \\quad i,j,k,l=0,1,...\n",
    "$$\n",
    "для малорангового приближения с точностью $10^{-6}$. Массив $A$ соберите с помощью функции ```np.meshgrid```. Напечатайте получившиеся ранги и относительную ошибку полученного малорангового приближения (для этого используйте функцию ```tuck2full```)."
   ]
  },
  {
   "cell_type": "code",
   "execution_count": 28,
   "metadata": {
    "id": "wjfs3z8gTyOJ"
   },
   "outputs": [
    {
     "name": "stdout",
     "output_type": "stream",
     "text": [
      "ранги приближения:  (7, 8, 8, 9)\n",
      "относительная ошибка приближения 3.643815064529363e-06\n"
     ]
    }
   ],
   "source": [
    "i, j, k, l = np.array(np.meshgrid([range(25)], [range(50)], [range(75)], [range(100)], indexing='ij'))\n",
    "\n",
    "A = 1 / (i + j + k + l + 1)\n",
    "eps = 1e-6\n",
    "\n",
    "G, Us = hosvd(A, eps)\n",
    "print(\"ранги приближения: \", G.shape)\n",
    "Ahosvd = tuck2full(G, Us)\n",
    "print(\"относительная ошибка приближения\", np.linalg.norm(A - Ahosvd) / np.linalg.norm(A))\n"
   ]
  },
  {
   "cell_type": "markdown",
   "metadata": {
    "id": "6ws5NBZk2Bbq"
   },
   "source": [
    "4. (**15 баллов**) Докажите, что норма Фробениуса приближения HOSVD $A'$ совпадает с её ядром Таккера $G'$:\n",
    "\n",
    "$$\n",
    "  \\|A'\\|_F = \\|G'\\|_F\n",
    "$$"
   ]
  },
  {
   "cell_type": "markdown",
   "metadata": {
    "id": "5ROu4qdE2E2T"
   },
   "source": [
    "**По утверждению с лекции $vec(A) = vec([G, U_1, \\dots, U_d]) = (U_1 \\otimes \\dots \\otimes U_d)vec(G)$, у $U_i$ ортонормированы столбцы, а Фробениусова норма матрицы - 2-норма вектора. Значит, надо показать, что $U_1 \\otimes \\dots \\otimes U_d$ - имеет ортонормированные столбцы, т. к. 2-норма вектора унитарно-инвариантная и $\\lVert G \\rVert_{F}^2 = \\lVert vec(G) \\rVert_{2}$**\n",
    "\n",
    "$$U \\textrm{имеет ортонормированные столбцы} \\Longleftrightarrow U^*U = I$$\n",
    "$$(U_1 \\otimes \\dots \\otimes U_d)^*(U_1 \\otimes \\dots \\otimes U_d) =$$\n",
    "$$ = (U_1^* \\otimes \\dots \\otimes U_d^*)(U_1 \\otimes \\dots \\otimes U_d) =$$\n",
    "$$= (U_1^*U_1) \\otimes (U_2^* \\otimes \\dots \\otimes U_d^*)(U_2 \\otimes \\dots \\otimes U_d) = $$\n",
    "$$= I_1 \\otimes (U_2^* \\otimes \\dots \\otimes U_d^*)(U_2 \\otimes \\dots \\otimes U_d) = $$\n",
    "$$= I_1 \\otimes (U_2^*U_2) \\otimes (U_3^* \\otimes \\dots \\otimes U_d^*)(U_3 \\otimes \\dots \\otimes U_d) = $$\n",
    "$$= \\dots = I_1 \\otimes \\dots \\otimes I_{d-1} \\otimes (U_d^*U_d) = $$\n",
    "$$=I_1 \\otimes \\dots \\otimes I_d = I \\in \\mathbb{C} ^{r_1\\dots r_d \\times r_1\\dots r_d}$$\n"
   ]
  },
  {
   "cell_type": "markdown",
   "metadata": {
    "id": "1kJsjUll2Cvz"
   },
   "source": [
    "5. (**25 баллов**) Для заданного таккеровского разложения напишите функцию вычисления его нормы. Примените ее к разложению тензора размера 10000 x 10000 x 10000 со случайными Таккеровскими факторами и ядром мультилинейного ранга (10, 10, 10)."
   ]
  },
  {
   "cell_type": "markdown",
   "metadata": {},
   "source": [
    "**Из доказательства выше мы поняли, что вычислять норму тензора через норму таккеровского ядра из его svd-разложения - хорошая идея. Но для больших размерностей такой алгоритм не очень эффективен. Поступим следующим образом: к каждому фактору таккеровского разложения применим сингулярное разложение, затем \"выкинем\" ортогональную матрицу U и применим изначальный алгоритм к разложению $A_0 = [G, \\Sigma_1V^*_1, \\dots, \\Sigma_sV^*_s] \\in \\mathbb{C}^{r_1\\times\\dots\\times r_s}$. Почему $\\lVert A \\rVert_{F} = \\lVert A_0 \\rVert_{F}$ ?**"
   ]
  },
  {
   "cell_type": "markdown",
   "metadata": {},
   "source": [
    "$$\\lVert A \\rVert_{F} = \\lVert vec(A) \\rVert_2 = \\lVert vec([G, U_1, \\dots, U_d])\\rVert_2 = \\lVert (U_1 \\otimes \\dots \\otimes U_d)vec(G) \\rVert_2 = \\lVert ((U^o_1\\Sigma_1 V^*_1) \\otimes \\dots \\otimes (U^o_d\\Sigma_dV^*_d)vec(G) \\rVert_2 = \\lVert \\Big((U^o_1 \\otimes \\dots \\otimes U^o_d)  ((\\Sigma_1 V^*_1) \\otimes \\dots \\otimes (\\Sigma_dV^*_d)\\Big) vec(G)\\rVert_2 = \\lVert (U^o_1 \\otimes \\dots \\otimes U^o_d)  \\Big((\\Sigma_1 V^*_1) \\otimes \\dots \\otimes (\\Sigma_dV^*_d)) vec(G)\\Big)\\rVert_2 =  \\text{из задания 4 левая матрица состоит из ортонормированных столбцов} \\rightarrow \\text{при умножении на нее норма не меняется} = \\lVert (\\Sigma_1 V^*_1) \\otimes \\dots \\otimes (\\Sigma_dV^*_d)) vec(G)\\rVert_2 =  \\lVert vec(A^o) \\rVert_{F} = \\lVert A^o \\rVert_{F}$$"
   ]
  },
  {
   "cell_type": "code",
   "execution_count": 42,
   "metadata": {
    "id": "7TtsdZKs1_Gs"
   },
   "outputs": [],
   "source": [
    "def tuck_norm(G, Us):\n",
    "    U_new = []\n",
    "    for U in Us:\n",
    "        u, s, vt = randomized_svd(U, 10)\n",
    "        u_new = np.diag(s) @ vt\n",
    "        U_new.append(u_new)\n",
    "    \n",
    "    A = tuck2full(G, U_new)\n",
    "    S, Us_svd = hosvd(A, 0)\n",
    "    \n",
    "#     Ain = tuck2full(G, Us)\n",
    "#     print('tensorly', tensorly.norm(Ain, order=2, axis=None)) #себя проверить для маленьких размеров\n",
    "    return np.linalg.norm(S)\n"
   ]
  },
  {
   "cell_type": "code",
   "execution_count": 43,
   "metadata": {},
   "outputs": [],
   "source": [
    "g = tensorly.random.random_tucker(shape=(10, 10, 10), rank=[10, 10, 10], full = True)\n",
    "u1 = np.random.randn(10000, 10)\n",
    "u2 = np.random.randn(10000, 10)\n",
    "u3 = np.random.randn(10000, 10)\n",
    "\n"
   ]
  },
  {
   "cell_type": "code",
   "execution_count": 44,
   "metadata": {},
   "outputs": [
    {
     "name": "stdout",
     "output_type": "stream",
     "text": [
      "mine 2226895162.729871\n"
     ]
    }
   ],
   "source": [
    "print('mine', tuck_norm(g, (u1, u2, u3)))"
   ]
  },
  {
   "cell_type": "code",
   "execution_count": null,
   "metadata": {},
   "outputs": [],
   "source": []
  }
 ],
 "metadata": {
  "colab": {
   "provenance": []
  },
  "kernelspec": {
   "display_name": "Python 3",
   "language": "python",
   "name": "python3"
  },
  "language_info": {
   "codemirror_mode": {
    "name": "ipython",
    "version": 3
   },
   "file_extension": ".py",
   "mimetype": "text/x-python",
   "name": "python",
   "nbconvert_exporter": "python",
   "pygments_lexer": "ipython3",
   "version": "3.8.8"
  }
 },
 "nbformat": 4,
 "nbformat_minor": 1
}
