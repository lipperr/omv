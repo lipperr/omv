{
 "cells": [
  {
   "cell_type": "markdown",
   "metadata": {
    "id": "5o4teC-0xm3s"
   },
   "source": [
    "# Практическое домашнее задание - 4"
   ]
  },
  {
   "cell_type": "code",
   "execution_count": 16,
   "metadata": {
    "id": "OPO8Z0mmnrYM"
   },
   "outputs": [],
   "source": [
    "import numpy as np\n",
    "import numpy.linalg as la\n",
    "import matplotlib.pyplot as plt\n",
    "import scipy.sparse as sp\n",
    "import scipy.linalg\n",
    "import scipy.sparse.linalg as spla\n",
    "import time\n",
    "%matplotlib inline"
   ]
  },
  {
   "cell_type": "markdown",
   "metadata": {
    "id": "RWzF1SDwnrYG"
   },
   "source": [
    "## Расчёт напряжений в системе резисторов"
   ]
  },
  {
   "cell_type": "markdown",
   "metadata": {
    "id": "94ETuTDEnrYL"
   },
   "source": [
    "В этой задаче мы поработаем с разреженными системами, в том числе научимся быстро пересчитывать решение при изменениях ранга 1 в матрице левой части."
   ]
  },
  {
   "cell_type": "markdown",
   "metadata": {
    "id": "7ClRrfK6nrYO"
   },
   "source": [
    "При конструировании сверхбольших интегральных схем (СБИС, very large scale integration, VLSI) одной из базовых задачей является расчёт напряжений в электрических схемах довольно внушительных размеров. Мы рассмотрим модельный пример: сетку $m \\times n$ с резисторами сопротивления $R$.\n",
    "\n",
    "![](https://teachs.ru/images/question/41a0210c5b8a09c9ca58319c1ab1ce18.png)\n",
    "\n",
    "Потенциалы в узлах сетки обозначим $\\varphi_{ij}$, это и будут наши неизвестные. Давайте также считать, что к противоположным углам сетки ($(1,1)$ и $(m,n)$) приложена разность потенциалов $U$. Соответственно, в левый верхний угол втекает (неизвестный) ток $I$, и такой же ток вытекает из правого нижнего угла.\n",
    "\n",
    "Для решения системы нам будет достаточно закона Ома и первого закона Кирхгофа. Именно, для каждого резистора легко выразить текущий через него ток. Например, для горизонтального резистора между узлами $(i,j)$ и $(i,j+1)$ ток равен $I_{i,j} = (\\varphi_{ij} - \\varphi_{i,j+1})/R$. Далее применяем первый закон Кирхгофа для каждого узла $(i,j)$, то есть приравниваем сумму втекающих токов к сумме вытекающих. Для внутреннего узла получим такое равенство:\n",
    "$$\n",
    "\\frac{\\varphi_{i,j-1} - \\varphi_{i,j}}{R} + \\frac{\\varphi_{i-1,j} - \\varphi_{i,j}}{R} - \\frac{\\varphi_{i,j} - \\varphi_{i,j+1}}{R} - \\frac{\\varphi_{i,j} - \\varphi_{i+1,j}}{R} = 0.\\tag{1}\n",
    "$$\n",
    "На границе, например, верхней (то есть $i = 1$), будет отсутствовать член $\\varphi_{i-1,j}-\\varphi_{i, j}$, а в углу, например, $(1,n)$, будет дополнительно отсутствовать член $\\varphi_{i,j}-\\varphi_{i, j+1}$. В углах $(1,1)$ и $(m, n)$, однако, ситуация особая: в первом есть дополнительный втекающий неизвестный ток $I$, а во втором этот же ток вытекает.\n",
    "В результате получим систему на $\\varphi_{i,j}$ и $I$:\n",
    "$$\n",
    "\\left[ \\begin{array}{ccccc|c}\n",
    "   &&   && &  R \\\\\n",
    "   &&   && &  0 \\\\\n",
    "   && A && &  \\vdots  \\\\\n",
    "   &&   && &  0 \\\\\n",
    "   &&   && & -R \\\\\n",
    "   \\hline\n",
    "1 & 0 & \\dots &  0 & -1 & 0\n",
    "\\end{array}\n",
    "\\right]\n",
    "\\begin{bmatrix}\n",
    "\\varphi_{11} \\\\\n",
    "\\vdots       \\\\\n",
    "\\vdots       \\\\\n",
    "\\vdots       \\\\\n",
    "\\varphi_{mn}  \\\\\n",
    "I\n",
    "\\end{bmatrix}\n",
    "=\n",
    "\\begin{bmatrix}\n",
    "0 \\\\\n",
    "\\vdots       \\\\\n",
    "\\vdots       \\\\\n",
    "\\vdots       \\\\\n",
    "0  \\\\\n",
    "U\n",
    "\\end{bmatrix}\n",
    "$$\n",
    "Последнее уравнение есть $\\varphi_{11}-\\varphi_{mn} = U$.\n",
    "\n",
    "Разберёмся с видом матрицы $A$. Она имеет размеры $mn \\times mn$ и индексируется двумя парами индексов $ij$ и $i'j'$. Перепишем уравнение (2) в виде \n",
    "$$\n",
    "(\\varphi_{i,j-1} - 2\\varphi_{i,j} + \\varphi_{i,j+1}) + (\\varphi_{i-1,j} - 2\\varphi_{i,j} + \\varphi_{i+1,j}) = 0.\\tag{2}\n",
    "$$\n",
    "Если переписать столбец $\\varphi$ с элементами $\\varphi_{ij}$ в матрицу $\\Phi\\in\\mathbb{R}^{m \\times n}$ естественным образом (то есть так, чтобы $\\mathrm{vec}(\\Phi) = \\varphi$), то ясно, что первое слагаемое в (2) действует на столбцы матрицы $\\Phi$, а второе &mdash; на строки. То есть $A \\varphi  = \\mathrm{vec}(\\Phi A_n) + \\mathrm{vec}(A_m \\Phi)$, где $A_n \\in \\mathbb{R}^{n \\times n}$ и $A_m \\in \\mathbb{R}^{m \\times m}$ имеют вид\n",
    "$$\n",
    "\\begin{bmatrix}\n",
    "-1 & 1 & &  \\\\\n",
    "1 & -2 & 1 & \\\\\n",
    "  &   & \\ddots &  \\\\\n",
    "  &     &    1 & -1\n",
    " \\end{bmatrix}.\n",
    "$$\n",
    "По уже известной нам формуле для $\\mathrm{vec}(\\cdot)$ получается, что $A = A_n \\otimes I_m + I_n \\otimes A_m$. Операция в правой части ещё называется *Кронекеровой суммой* матриц $A_n$ и $A_m$ и обозначается $A_n \\oplus A_m$ (можете проверить, что такая \"сумма\" не имеет такого интуитивного свойство суммы, как коммутативность, т.е. в общем случае $A_m \\oplus A_n \\neq A_n \\oplus A_m$).\n",
    "\n",
    "**Обратите внимание**, что система получилась линейно зависимой: если сложить все строки, кроме последней, получится нулевая строка (физически это отвечает тому, что все потенциалы можно сдвинуть на одинаковую константу).\n",
    "Поэтому мы удалим предпоследнюю строку (не потеряв никакой информации, ведь она равнялась минус сумме остальных), а вместо неё добавим условие $\\varphi_{mn} = 0$, таким образом фиксируя один из потенциалов, чтобы уничтожить неопределённость. Обозначим получившуюся $(mn+1)\\times(mn+1)$ матрицу $B$."
   ]
  },
  {
   "cell_type": "markdown",
   "metadata": {
    "id": "98VFDQbhnrYQ"
   },
   "source": [
    "### 1. Разреженное LU-разложение (20 баллов)"
   ]
  },
  {
   "cell_type": "markdown",
   "metadata": {
    "id": "K1-fleNUnrYR",
    "scrolled": true
   },
   "source": [
    "a. (**12 баллов**) Сформируйте разреженную матрицу решаемой системы в CSC формате. Для получения матриц $A_m, A_n$ используйте `scipy.sparse.spdiags`, а для сбора $A$ по $A_m, A_n$ используйте `scipy.sparse.kron` матрицы $A$. Обратите внимание, что в этом задании нельзя собирать $A$ или $A_m, A_n$ с использование операций с плотными матрицами."
   ]
  },
  {
   "cell_type": "code",
   "execution_count": 17,
   "metadata": {
    "id": "MTYbB6x7nrYS"
   },
   "outputs": [],
   "source": [
    "from scipy import sparse\n",
    "\n",
    "def make_A(m, n):\n",
    "    \"Returns sparse mn x mn matrix A\"\n",
    "    data_n = np.array([np.ones(n), np.concatenate(([-1], np.full(n-2, -2), [-1])) , np.ones(n)])\n",
    "    data_m = np.array([np.ones(m), np.concatenate(([-1], np.full(m-2, -2), [-1])), np.ones(m)])\n",
    "    diags = np.array([-1, 0, 1])\n",
    "    An = sparse.spdiags(data_n, diags, n, n, format='csc')\n",
    "    Am = sparse.spdiags(data_m, diags, m, m, format='csc')\n",
    "    A = sparse.kron(An, np.eye(m), format='csc') + sparse.kron(np.eye(n), Am, format='csc')\n",
    "    return A\n",
    "def make_mat(m, n, R):\n",
    "    \"Returns sparse (mn + 1) x (mn + 1) matrix of the system in CSC format\"\n",
    "    A = make_A(m, n)\n",
    "    row1 = np.zeros(m*n)\n",
    "    row1[-1] = 1\n",
    "    A[-1, :] = sparse.csc_matrix(row1)\n",
    "    \n",
    "    row = np.zeros(m*n)\n",
    "    row[0], row[-1] = 1, -1\n",
    "    col = np.zeros(m*n + 1)\n",
    "    col[0] = R\n",
    "    \n",
    "    B = sparse.vstack((A, row), format='csc')\n",
    "    B = sparse.hstack((B, col.reshape(-1, 1)), format='csc')\n",
    "    return B\n"
   ]
  },
  {
   "cell_type": "markdown",
   "metadata": {
    "id": "Nxa0Dj0wnrYU"
   },
   "source": [
    "b. (**8 баллов**) Заполните класс `Solver`, который при инициализации выполнит разреженное LU-разложение с помощью библиотеки `scipy.sparse.linalg` и функции `scipy.sparse.linalg.splu`, а затем будет уметь решать систему для заданной правой части."
   ]
  },
  {
   "cell_type": "code",
   "execution_count": 18,
   "metadata": {
    "id": "jdAycPPHnrYU"
   },
   "outputs": [],
   "source": [
    "import scipy.sparse.linalg\n",
    "\n",
    "class Solver:\n",
    "    def __init__(self, m, n, R):\n",
    "        self.B = make_mat(m, n, R)\n",
    "        self.lu = scipy.sparse.linalg.splu(self.B)\n",
    "    \n",
    "    def solve(self, right):\n",
    "        \"Solves the system for given right part\"\n",
    "        return self.lu.solve(right)\n",
    "        \n",
    "\n",
    "    def solve_voltage(self, U):\n",
    "        \"Solves the updated system for given voltage\"\n",
    "        right = np.zeros(m*n + 1)\n",
    "        right[-1] = U\n",
    "        return self.solve(right)"
   ]
  },
  {
   "cell_type": "markdown",
   "metadata": {
    "id": "I8L35IwmnrYV"
   },
   "source": [
    "Решим систему и визуализируем полученное решение, чтобы понять, как текут токи."
   ]
  },
  {
   "cell_type": "code",
   "execution_count": 19,
   "metadata": {
    "id": "yc8lR13gnrYW"
   },
   "outputs": [],
   "source": [
    "def visualize(m, n, R, solution, resistance_coeffs={}):\n",
    "    plt.axis('off')\n",
    "    plt.gcf().set_size_inches((n, m / 2))\n",
    "    max_current = 0\n",
    "    lines = []\n",
    "    for i in range(m):\n",
    "        for j in range(n - 1):\n",
    "            current = (solution[j * m + i] - solution[(j + 1) * m + i]) / R\n",
    "            dx = 0.2 if current > 0 else -0.2\n",
    "            plt.arrow(j+0.5, -i, dx, 0, shape='full', lw=2, length_includes_head=True, head_width=.10, color='blue')\n",
    "            max_current = max(max_current, current)\n",
    "            lines += plt.plot([j, j + 1], [-i, -i], color='blue', lw=abs(current))\n",
    "    for i in range(m - 1):\n",
    "        for j in range(n):\n",
    "            resistance = R * resistance_coeffs.get((i, j), 1)\n",
    "            current = (solution[j * m + i] - solution[j * m + i + 1]) / resistance\n",
    "            dy = -0.1 if current > 0 else 0.1\n",
    "            plt.arrow(j, -i - 0.5, 0, dy, shape='full', lw=2, length_includes_head=True, head_width=.08, color='blue')\n",
    "            max_current = max(max_current, current)\n",
    "            lines += plt.plot([j, j], [-i, -i - 1], color='blue', lw=abs(current))\n",
    "    for l in lines:\n",
    "        l.set_linewidth(l.get_linewidth() * 4. / max_current)"
   ]
  },
  {
   "cell_type": "code",
   "execution_count": 20,
   "metadata": {
    "id": "RrF5DmPpnrYW"
   },
   "outputs": [
    {
     "data": {
      "image/png": "[encoded data removed]",
      "text/plain": [
       "<Figure size 216x288 with 1 Axes>"
      ]
     },
     "metadata": {
      "needs_background": "light"
     },
     "output_type": "display_data"
    }
   ],
   "source": [
    "m, n, R = 8, 3, 1.\n",
    "solver = Solver(m, n, R)\n",
    "visualize(m, n, R, solver.solve_voltage(220.))"
   ]
  },
  {
   "cell_type": "markdown",
   "metadata": {
    "id": "4WdctxmAnrYX"
   },
   "source": [
    "Проверьте, что ваш солвер работает для больших систем."
   ]
  },
  {
   "cell_type": "code",
   "execution_count": 21,
   "metadata": {
    "id": "lP6c7zyrnrYX"
   },
   "outputs": [],
   "source": [
    "m, n, R = 500, 500, 1.\n",
    "solver = Solver(m, n, R)\n",
    "_ = solver.solve_voltage(220.)"
   ]
  },
  {
   "cell_type": "markdown",
   "metadata": {
    "id": "fQoKCy4FnrYX"
   },
   "source": [
    "### 2. Обновления ранга 1 (40 баллов)"
   ]
  },
  {
   "cell_type": "markdown",
   "metadata": {
    "id": "ksm-8O_gnrYX"
   },
   "source": [
    "Представим теперь, что в процессе работы резисторы в нашей системе могут менять своё сопротивление, например, при перегреве проводник может потерять проводимость ($R_{i,j} = \\infty$) или, напротив, может произойти короткое замыкание ($R_{i,j} = 0$). При таких локальных изменениях нет нужды строить и решать заново всю нашу линейную систему.\n",
    "\n",
    "a. (**17 баллов**) Будем считать для простоты, что\n",
    "  1. сопротивление меняется только в вертикальных резисторах, не инцидентных узлам $(0,0)$ и $(m-1, n-1)$;\n",
    "  2. в каждом проводе сопротивление может измениться только один раз.\n",
    "\n",
    "Пусть сопротивление между узлами $(i,j)$ и $(i+1,j)$ изменилось с $R$ на $R'$. Пользуясь формулой (1), выпишите новую матрицу $B'$ в виде $B' = B + uv^\\top$.\n"
   ]
  },
  {
   "cell_type": "markdown",
   "metadata": {
    "id": "xSAvIplGnrYY"
   },
   "source": [
    "(можно написать решение в строчке ниже или на листке, который надо будет сфотографировать)"
   ]
  },
  {
   "cell_type": "markdown",
   "metadata": {
    "id": "OhMieUNcnrYY"
   },
   "source": [
    "**YOUR WORDS GO HERE**"
   ]
  },
  {
   "cell_type": "markdown",
   "metadata": {},
   "source": [
    "\n",
    "$$\n",
    "\\frac{\\varphi_{i,j-1} - \\varphi_{i,j}}{R} + \\frac{\\varphi_{i-1,j} - \\varphi_{i,j}}{R} - \\frac{\\varphi_{i,j} - \\varphi_{i,j+1}}{R} - \\frac{\\varphi_{i,j} - \\varphi_{i+1,j}}{R'} = 0\n",
    "$$"
   ]
  },
  {
   "cell_type": "markdown",
   "metadata": {},
   "source": [
    "$$\n",
    "\\varphi_{i,j-1} - \\varphi_{i,j} + \\varphi_{i-1,j} - \\varphi_{i,j} - (\\varphi_{i,j} - \\varphi_{i,j+1}) - \\frac{R(\\varphi_{i,j} - \\varphi_{i+1,j})}{R'} = 0\n",
    "$$\n",
    "\n",
    "$$\n",
    "(\\varphi_{i,j-1} - 2\\varphi_{i,j} + \\varphi_{i,j+1}) + (\\varphi_{i-1,j} - (1 + \\frac{R}{R'})\\varphi_{i,j} + \\frac{R}{R'}\\varphi_{i+1,j}) = 0\n",
    "$$\n",
    "\n",
    "$$\n",
    "(\\varphi_{i-1,j} - 2\\varphi_{i,j} + \\varphi_{i+1,j}) + (\\varphi_{i,j-1} - 2\\varphi_{i,j} + \\varphi_{i,j+1}) + \n",
    "((1 - \\frac{R}{R'})\\varphi_{i,j} + (-1 + \\frac{R}{R'})\\varphi_{i+1,j}) = A\\varphi + X\\varphi = 0, X \\in \\mathbb{R}^{mn \\times mn}\n",
    "$$\n",
    "\n",
    "$$\n",
    "X_{jm+i, jm+i} = 1 - \\frac{R}{R'}, X_{jm+i, jm+i+1} = -1 + \\frac{R}{R'}, rkX = 1 \\text{ (на остальных местах - нули)}\n",
    "$$\n",
    "\n",
    "$$\\overline{X} = \n",
    "\\begin{bmatrix}\n",
    " X & 0  \\\\\n",
    " 0 & 0 \\\\\n",
    " \\end{bmatrix} \\in \\mathbb{R}^{(mn + 1) \\times (mn + 1)}, \\overline{X} = uv^t\n",
    "$$\n",
    "\n",
    "$$\n",
    "u = \n",
    "\\begin{bmatrix}\n",
    "0 \\\\\n",
    "\\vdots       \\\\\n",
    "1 \\\\\n",
    "\\vdots       \\\\\n",
    "0  \\\\\n",
    "\\end{bmatrix}_{jm + i}\n",
    "v = \n",
    "\\begin{bmatrix}\n",
    "0 \\\\\n",
    "\\vdots       \\\\\n",
    "1-\\frac{R}{R'} \\\\\n",
    "-1+\\frac{R}{R'} \\\\\n",
    "\\vdots       \\\\\n",
    "0  \\\\\n",
    "\\end{bmatrix}_{jm + i, jm + i + 1}\n",
    "$$\n",
    "\n",
    "$$\n",
    "B' = B + uv^t\n",
    "$$"
   ]
  },
  {
   "cell_type": "markdown",
   "metadata": {
    "id": "dhUvxgT8nrYY"
   },
   "source": [
    "Далее воспользуемся формулой Шермана-Моррисона для обращения матрицы $B + uv^\\top$:\n",
    "$$\n",
    "(B + uv^\\top)^{-1} = B^{-1} - \\frac{B^{-1}uv^\\top B^{-1}}{1 + v^\\top B^{-1}u}.\n",
    "$$\n",
    "\n",
    "b. (**23 балла**) Напишите класс `UpdatableSolver`, использующий `Solver`, но вдобавок умеющий умножать сопротивление в заданном вертикальном резисторе на заданное число."
   ]
  },
  {
   "cell_type": "code",
   "execution_count": 22,
   "metadata": {
    "id": "-lWmZXCtnrYY"
   },
   "outputs": [],
   "source": [
    "class UpdatableSolver(Solver):\n",
    "    def __init__(self, m, n, R):\n",
    "        super().__init__(m, n, R)\n",
    "        self.u = np.zeros((m*n + 1, 1))\n",
    "        self.vt = np.zeros((m*n + 1, 1)).T\n",
    "        \n",
    "    def solve(self, right):\n",
    "        \"Solves the updated system for given right part\"\n",
    "        y = super().solve(right)\n",
    "        y = y.reshape((y.shape[0], 1))\n",
    "        z = super().solve(self.u)\n",
    "\n",
    "        return y - (z * (self.vt @ y)) / (1 + self.vt @ z)\n",
    "    \n",
    "    def update(self, i, j, coeff):\n",
    "        \"\"\"\n",
    "            Updates the system so that the resistance between (i,j) and (i+1,j)\n",
    "            is mutiplied by coeff.\n",
    "        \"\"\"\n",
    "        self.u[j * m + i] += 1\n",
    "        self.vt[0][j * m + i] += 1 - 1/coeff\n",
    "        self.vt[0][j * m + i + 1] += -1 + 1/coeff\n",
    "    \n",
    "    def solve_voltage(self, U):\n",
    "        \"Solves the updated system for given voltage\"\n",
    "        right = np.zeros(m*n + 1)\n",
    "        right[-1] = U\n",
    "        return self.solve(right)"
   ]
  },
  {
   "cell_type": "markdown",
   "metadata": {
    "id": "Tugi_vufnrYZ"
   },
   "source": [
    "Поэкспериментируем с изменением проводимости отдельных участков. Попробуем сильно увеличить сопротивление сначала одного, затем другого резистора в одном вертикальном ряду. "
   ]
  },
  {
   "cell_type": "code",
   "execution_count": 23,
   "metadata": {
    "id": "CUUirgyunrYZ"
   },
   "outputs": [
    {
     "data": {
      "image/png": "[encoded data removed]",
      "text/plain": [
       "<Figure size 216x288 with 1 Axes>"
      ]
     },
     "metadata": {
      "needs_background": "light"
     },
     "output_type": "display_data"
    },
    {
     "data": {
      "image/png": "[encoded data removed]",
      "text/plain": [
       "<Figure size 216x288 with 1 Axes>"
      ]
     },
     "metadata": {
      "needs_background": "light"
     },
     "output_type": "display_data"
    },
    {
     "data": {
      "image/png": "[encoded data removed]",
      "text/plain": [
       "<Figure size 216x288 with 1 Axes>"
      ]
     },
     "metadata": {
      "needs_background": "light"
     },
     "output_type": "display_data"
    }
   ],
   "source": [
    "m, n, R = 8, 3, 1.\n",
    "solver = UpdatableSolver(m, n, R)\n",
    "visualize(m, n, R, solver.solve_voltage(220.))\n",
    "plt.figure()\n",
    "coeff = 1000\n",
    "resistance_coeffs = {(3,1): coeff}\n",
    "solver.update(3, 1, coeff)\n",
    "visualize(m, n, R, solver.solve_voltage(220.), resistance_coeffs=resistance_coeffs)\n",
    "plt.figure()\n",
    "resistance_coeffs[(3,2)] = coeff\n",
    "solver.update(3, 2, coeff)\n",
    "visualize(m, n, R, solver.solve_voltage(220.), resistance_coeffs=resistance_coeffs)"
   ]
  },
  {
   "cell_type": "markdown",
   "metadata": {
    "id": "98yTkNFqnrYZ"
   },
   "source": [
    "Также проверим, что новый солвер работает для больших систем."
   ]
  },
  {
   "cell_type": "code",
   "execution_count": 24,
   "metadata": {
    "id": "BJLhmZvqnrYZ"
   },
   "outputs": [],
   "source": [
    "m, n, R = 300, 300, 1.\n",
    "solver = UpdatableSolver(m, n, R)\n",
    "solver.solve_voltage(220.)\n",
    "solver.update(10, 20, 100.)\n",
    "solver.update(20, 30, 100.)\n",
    "solver.update(30, 40, 100.)\n",
    "_ = solver.solve_voltage(220.)"
   ]
  },
  {
   "cell_type": "markdown",
   "metadata": {
    "id": "VwT34jPIyKDI"
   },
   "source": [
    "## Итерационные методы для решения линейных систем"
   ]
  },
  {
   "cell_type": "markdown",
   "metadata": {
    "id": "rOD3b3FXxMRV"
   },
   "source": [
    "В этой задаче мы будем сравнивать различные итерационные методы для решения систем, как модельных, так и настоящих больших и разреженных."
   ]
  },
  {
   "cell_type": "markdown",
   "metadata": {
    "id": "zRZ18T6RxMRX"
   },
   "source": [
    "### 3. Модельная плотная матрица (35 баллов)\n",
    "\n",
    "Начнём с некоторой модельной плотной матрицы. Она будет симметричной положительно определённой, чтобы можно было применять все наши методы, однако собственные числа мы выберем так, чтобы получить довольно большое число обусловленности."
   ]
  },
  {
   "cell_type": "code",
   "execution_count": 25,
   "metadata": {
    "id": "QvpGUCkixMRY"
   },
   "outputs": [],
   "source": [
    "d = np.hstack([1 / np.arange(100, 0, -1), 10])\n",
    "n = len(d)\n",
    "Q, _ = np.linalg.qr(np.random.random((n, n)))\n",
    "A = (Q * d) @ Q.T\n",
    "b = np.random.random(n)"
   ]
  },
  {
   "cell_type": "markdown",
   "metadata": {
    "id": "Aqyc2t39xMRY"
   },
   "source": [
    "На всякий случай нарисуем сингулярные числа."
   ]
  },
  {
   "cell_type": "code",
   "execution_count": 26,
   "metadata": {
    "id": "sXt5li_-xMRZ"
   },
   "outputs": [
    {
     "data": {
      "image/png": "[encoded data removed]",
      "text/plain": [
       "<Figure size 432x288 with 1 Axes>"
      ]
     },
     "metadata": {
      "needs_background": "light"
     },
     "output_type": "display_data"
    }
   ],
   "source": [
    "plt.plot(np.linalg.svd(A, compute_uv=False))\n",
    "_ = plt.semilogy()"
   ]
  },
  {
   "cell_type": "markdown",
   "metadata": {
    "id": "ajitp-22xMRZ"
   },
   "source": [
    "#### a. Метод простой итерации (15 баллов)\n",
    "\n",
    "Реализуйте функцию, которая обобщает все варианты метода простой итерации. За это обобщение отвечает параметр `get_dx` &mdash; функция, принимающая невязку $r_k$ и возвращающая вектор $\\Delta x \\equiv x_{k+1} - x_k$.\n",
    "Также у функции есть параметр `tol`, соответствующий целевой относительной невязке, то есть величине $\\|r_k\\|_2/\\|b\\|_2$.\n",
    "Наконец, параметр `debug` нужен, чтобы контролировать дебажный вывод. Если передан `debug=True`, на каждой итерации нужно печатать (в свободной форме) номер итерации, относительную невязку и всё, что ещё сочтёте интересным.\n",
    "\n",
    "В выходном параметре `residual_norms` необходимо вернуть список относительных величин невязок для каждой итерации."
   ]
  },
  {
   "cell_type": "code",
   "execution_count": 27,
   "metadata": {
    "id": "E4U3QCHsxMRZ"
   },
   "outputs": [],
   "source": [
    "def simple_iteration(A, b, get_dx, x0=None, tol=1e-5, max_iter=None, debug=False):\n",
    "    \"\"\"\n",
    "        Input\n",
    "            A: dense or sparse square matrix\n",
    "            b: right part of appropriate size\n",
    "            get_dx: function computing correction to current solution from current residualresidue\n",
    "            x0: initial guess for solution\n",
    "            tol: relative residualresidue to achieve\n",
    "            max_iter: if specified, no more that this number of iterations will be performed\n",
    "            debug: if True, output iteration no. and relative residualresidue norm (||r||_2/||b||_2) at each iteration\n",
    "            \n",
    "        Output\n",
    "            x: found approximate solution\n",
    "            residual_norms: relative residualresidue norms at each iteration\n",
    "    \"\"\"\n",
    "    b = b.reshape(-1, 1)\n",
    "    residual_norms = []\n",
    "    xk = x0 if x0 is not None else np.random.randn(A.shape[1], 1)\n",
    "    max_iter = max_iter if max_iter else 10000\n",
    "    norm_b = np.linalg.norm(b)\n",
    "    i = 0\n",
    "    \n",
    "    while (np.linalg.norm(b - A @ xk) / norm_b) > tol and i < max_iter:\n",
    "        rx = b - A @ xk\n",
    "        residual_norms.append(np.linalg.norm(rx) / norm_b)\n",
    "        dx = get_dx(rx)\n",
    "        xk += dx\n",
    "        if debug:\n",
    "            print('iteration: ', i, 'relative residualresidue = ', rx)\n",
    "        i += 1\n",
    "    return xk, residual_norms\n"
   ]
  },
  {
   "cell_type": "markdown",
   "metadata": {
    "id": "brxgm7QPxMRa"
   },
   "source": [
    "Используем также вспомогательную функцию, которая будет запускать солвер, печатать время работы и рисовать график сходимости."
   ]
  },
  {
   "cell_type": "code",
   "execution_count": 28,
   "metadata": {
    "id": "ZRF3XyGDxMRa"
   },
   "outputs": [],
   "source": [
    "def run_solver(solver, A, b, make_get_dx, **kwargs):\n",
    "    start = time.time()\n",
    "    get_dx = make_get_dx()\n",
    "    get_dx_time = time.time()\n",
    "    x, rs = solver(A, b, get_dx, **kwargs)\n",
    "    finish = time.time()\n",
    "    print(\"Runtime: {:4.2f} secs ({:4.2f} preparation + {:4.2f} iters)\".format(\n",
    "        finish - start,\n",
    "        get_dx_time - start,\n",
    "        finish - get_dx_time,\n",
    "    ))\n",
    "    if not rs:\n",
    "        return None, finish - start\n",
    "    line, = plt.plot(rs)\n",
    "    plt.xlabel(\"Iteration no.\")\n",
    "    plt.ylabel(\"Relative residualresidue\")\n",
    "    _ = plt.semilogy()\n",
    "    return line, finish - start"
   ]
  },
  {
   "cell_type": "markdown",
   "metadata": {
    "id": "9KRXC2nCxMRa"
   },
   "source": [
    "#### b. Метод Ричардсона (5 баллов)\n",
    "\n",
    "Начнём с метода Ричардсона. Реализуйте функцию `make_richardson_get_dx(A, tau)`, которая возвращает функцию, соответствующую методу Ричардсона (Richardson iteration) с фиксированным параметром $\\tau$."
   ]
  },
  {
   "cell_type": "code",
   "execution_count": 29,
   "metadata": {
    "id": "GxA-0Y_OxMRb"
   },
   "outputs": [],
   "source": [
    "def make_richardson_get_dx(A, tau):\n",
    "    \"\"\"\n",
    "        Input\n",
    "            A: square matrix\n",
    "            tau: parameter of Richardson iteration\n",
    "\n",
    "        Output\n",
    "            get_dx: function mapping r to Δx corresponding to Richardson iteration\n",
    "    \"\"\"\n",
    "    \n",
    "    return lambda r: tau * r"
   ]
  },
  {
   "cell_type": "markdown",
   "metadata": {
    "id": "oEc8tDDrxMRb"
   },
   "source": [
    "Помня, что старшее и младшее собственные (и сингулярные) числа матрицы $A$ равны $10$ и $10^{-2}$ соответственно,\n",
    "выберите 4 разных варианта для $\\tau$ из интервала, в котором гарантируется сходимость метода, включая оптимальное значение $\\tau$. Прокомментируйте полученный результат."
   ]
  },
  {
   "cell_type": "markdown",
   "metadata": {},
   "source": [
    "##### Метод будет сходится, если $0 < \\tau < \\frac{2}{\\lambda_1}$. Получается, что интервал сходимости $(0, 0.2)$. \n",
    "\n",
    "##### При этом оптимальное значение $\\tau_{opt}= \\frac{2}{\\lambda_1 + \\lambda_n} = \\frac{2}{10 + 0.01} \\approx 0.1998001998001998$"
   ]
  },
  {
   "cell_type": "code",
   "execution_count": 30,
   "metadata": {
    "id": "3hHa8prbxMRb"
   },
   "outputs": [
    {
     "name": "stdout",
     "output_type": "stream",
     "text": [
      "Runtime: 1.05 secs (0.00 preparation + 1.05 iters)\n",
      "Runtime: 1.04 secs (0.00 preparation + 1.04 iters)\n",
      "Runtime: 0.84 secs (0.00 preparation + 0.84 iters)\n",
      "Runtime: 0.40 secs (0.00 preparation + 0.40 iters)\n"
     ]
    },
    {
     "data": {
      "image/png": "[encoded data removed]",
      "text/plain": [
       "<Figure size 432x288 with 1 Axes>"
      ]
     },
     "metadata": {
      "needs_background": "light"
     },
     "output_type": "display_data"
    }
   ],
   "source": [
    "taus = [0.04, 0.09, 0.14, 0.19]\n",
    "lines = []\n",
    "labels = []\n",
    "for tau in taus:\n",
    "    line, _ = run_solver(simple_iteration, A, b, lambda: make_richardson_get_dx(A, tau), max_iter=10000)\n",
    "    lines.append(line)\n",
    "    labels.append(\"$\\\\tau = {:4.2f}$\".format(tau))\n",
    "_ = plt.legend(lines, labels)"
   ]
  },
  {
   "cell_type": "markdown",
   "metadata": {
    "id": "A0SYc5gc30R6"
   },
   "source": [
    "##### Можем наблюдать, как при приближении к оптимальному значению параметра алгоритм сходится быстрее"
   ]
  },
  {
   "cell_type": "markdown",
   "metadata": {
    "id": "ZUytCVpfxMRb"
   },
   "source": [
    "Также попробуйте 1 вариант вне интервала, в котором гарантируется сходимость. Например, отступите от границы интервала на 0.01. Прокомментируйте полученный результат."
   ]
  },
  {
   "cell_type": "code",
   "execution_count": 31,
   "metadata": {
    "id": "NrzogBdvxMRb"
   },
   "outputs": [
    {
     "name": "stdout",
     "output_type": "stream",
     "text": [
      "Runtime: 0.01 secs (0.00 preparation + 0.01 iters)\n"
     ]
    },
    {
     "data": {
      "image/png": "[encoded data removed]",
      "text/plain": [
       "<Figure size 432x288 with 1 Axes>"
      ]
     },
     "metadata": {
      "needs_background": "light"
     },
     "output_type": "display_data"
    }
   ],
   "source": [
    "outsider_tau = 0.21\n",
    "_ = run_solver(simple_iteration, A, b, lambda: make_richardson_get_dx(A, outsider_tau), max_iter=100)"
   ]
  },
  {
   "cell_type": "markdown",
   "metadata": {
    "id": "A0SYc5gc30R6"
   },
   "source": [
    "##### Из лекции знаем необходимое и достаточное условие сходимости: $\\rho(I - \\tau A) < 1$. Это условие выполняется только при $\\tau \\in (0, 0.2)$, то есть в данном случае относительная невязка возрастает, и поэтому процесс не сходится"
   ]
  },
  {
   "cell_type": "markdown",
   "metadata": {
    "id": "FiWpUThqxMRc"
   },
   "source": [
    "#### c. Метод Якоби (5 баллов)\n",
    "Реализуйте функцию `make_jacobi_get_dx(A)`, которая возвращает функцию, соответствующую методу Якоби (то есть $g_{\\mathrm{JAC}}(r) = \\mathrm{diag}(A)^{-1}r$)."
   ]
  },
  {
   "cell_type": "code",
   "execution_count": 32,
   "metadata": {
    "id": "QJBYKkSmxMRc"
   },
   "outputs": [],
   "source": [
    "def make_jacobi_get_dx(A):\n",
    "    \"\"\"\n",
    "        Input\n",
    "            A: square matrix\n",
    "\n",
    "        Output\n",
    "            get_dx: function mapping r to Δx corresponding to Jacobi method\n",
    "    \"\"\"\n",
    "    B = np.diag(1 / np.diagonal(A))\n",
    "    return lambda r : B @ r"
   ]
  },
  {
   "cell_type": "markdown",
   "metadata": {
    "id": "OBN5WaITxMRc"
   },
   "source": [
    "Запустим метод на нашей матрице. Объясните (неформально) полученный результат."
   ]
  },
  {
   "cell_type": "code",
   "execution_count": 33,
   "metadata": {
    "id": "BH8tteZMxMRc"
   },
   "outputs": [
    {
     "name": "stdout",
     "output_type": "stream",
     "text": [
      "Runtime: 0.02 secs (0.00 preparation + 0.02 iters)\n"
     ]
    },
    {
     "data": {
      "image/png": "[encoded data removed]",
      "text/plain": [
       "<Figure size 432x288 with 1 Axes>"
      ]
     },
     "metadata": {
      "needs_background": "light"
     },
     "output_type": "display_data"
    }
   ],
   "source": [
    "_ = run_solver(simple_iteration, A, b, lambda: make_jacobi_get_dx(A), max_iter=100)"
   ]
  },
  {
   "cell_type": "markdown",
   "metadata": {
    "id": "A0SYc5gc30R6"
   },
   "source": [
    "##### В данном случае кажется, что диагональ матрицы А плохо характеризует саму матрицу, поэтому метод Якоби и расходится"
   ]
  },
  {
   "cell_type": "markdown",
   "metadata": {
    "id": "gH1FUMo_xMRd"
   },
   "source": [
    "#### d. Метод Гаусса-Зейделя (5 баллов)\n",
    "\n",
    "Реализуйте функцию `make_gauss_seidel_get_dx(A)`, которая возвращает функцию `get_dx`, соответствующую методу Гаусса-Зейделя."
   ]
  },
  {
   "cell_type": "code",
   "execution_count": 34,
   "metadata": {
    "id": "hPVX5iJVxMRd"
   },
   "outputs": [],
   "source": [
    "def make_gauss_seidel_get_dx(A):\n",
    "    \"\"\"\n",
    "        Input\n",
    "            A: square matrix\n",
    "\n",
    "        Output\n",
    "            get_dx: function mapping r to Δx corresponding to Gauss--Seidel method\n",
    "    \"\"\"\n",
    "    B = np.linalg.inv(np.tril(A))\n",
    "    return lambda r: B @ r"
   ]
  },
  {
   "cell_type": "markdown",
   "metadata": {
    "id": "Z7J746X2xMRd"
   },
   "source": [
    "Запустим метод."
   ]
  },
  {
   "cell_type": "code",
   "execution_count": 35,
   "metadata": {
    "id": "mVCuRIxKxMRe"
   },
   "outputs": [
    {
     "name": "stdout",
     "output_type": "stream",
     "text": [
      "Runtime: 0.86 secs (0.02 preparation + 0.85 iters)\n"
     ]
    },
    {
     "data": {
      "image/png": "[encoded data removed]",
      "text/plain": [
       "<Figure size 432x288 with 1 Axes>"
      ]
     },
     "metadata": {
      "needs_background": "light"
     },
     "output_type": "display_data"
    }
   ],
   "source": [
    "_ = run_solver(simple_iteration, A, b, lambda: make_gauss_seidel_get_dx(A))"
   ]
  },
  {
   "cell_type": "markdown",
   "metadata": {
    "id": "oUsTUG3UxMRe"
   },
   "source": [
    "#### e. Метод скорейшего спуска (5 баллов)\n",
    "\n",
    "Реализуйте функцию `make_steepest_descent_get_dx(A)`, которая возвращает функцию, соответствующую методу скорейшего спуска."
   ]
  },
  {
   "cell_type": "code",
   "execution_count": 36,
   "metadata": {
    "id": "kLY33qx2xMRe"
   },
   "outputs": [],
   "source": [
    "def make_steepest_descent_get_dx(A):\n",
    "    \"\"\"\n",
    "        Input\n",
    "            A: square matrix\n",
    "\n",
    "        Output\n",
    "            get_dx: function mapping r to Δx corresponding to steepest descent method\n",
    "    \"\"\"\n",
    "    return lambda r: (r.T @ r) / (r.T @ A @ r) * r"
   ]
  },
  {
   "cell_type": "markdown",
   "metadata": {
    "id": "JiNPI0BIxMRe"
   },
   "source": [
    "Запустим метод скорейшего спуска."
   ]
  },
  {
   "cell_type": "code",
   "execution_count": 37,
   "metadata": {
    "id": "qsE17aA6xMRe"
   },
   "outputs": [
    {
     "name": "stdout",
     "output_type": "stream",
     "text": [
      "Runtime: 0.81 secs (0.00 preparation + 0.81 iters)\n"
     ]
    },
    {
     "data": {
      "image/png": "[encoded data removed]",
      "text/plain": [
       "<Figure size 432x288 with 1 Axes>"
      ]
     },
     "metadata": {
      "needs_background": "light"
     },
     "output_type": "display_data"
    }
   ],
   "source": [
    "_ = run_solver(simple_iteration, A, b, lambda: make_steepest_descent_get_dx(A))"
   ]
  },
  {
   "cell_type": "markdown",
   "metadata": {
    "id": "L29Wc-jsxMRf"
   },
   "source": [
    "### 4. Применение к большим разреженным матрицам (5 баллов)\n",
    "\n",
    "До сих пор больших проблем со сходимостью методов на тестовой матрице не возникало. Но в практических задачах могут возникать весьма неприятные матрицы. Давайте скачаем [файл G2_circuit.mat](https://sparse.tamu.edu/AMD/G2_circuit) (для удобства мы уже положили его в одну папку с данным ноутбуком; по ссылке можно ознакомиться с шаблоном разреженности матрицы и ее графом) с некоторой разреженной матрицей из коллекции разреженных матриц Флоридского университета https://sparse.tamu.edu. Отметим, что выбранная матрица соответствует некоторой задаче физической симуляции работы интегральной схемы (вероятно из процессора AMD).\n",
    "\n",
    "На сайте коллекции можно не только сортировать матрицы по размерам и числу ненулевых элементов, но и фильтровать по разным свойствам. Например, упомянутая матрица является симметричной положительно определённой, что будет нам очень на руку.\n",
    "\n",
    "Загрузим файл (он в матлабовском формате .mat, но scipy справится). Также выберем некоторый случайный вектор в качестве правой части."
   ]
  },
  {
   "cell_type": "code",
   "execution_count": 38,
   "metadata": {
    "id": "z9rq--6ZxMRf"
   },
   "outputs": [
    {
     "name": "stdout",
     "output_type": "stream",
     "text": [
      "150102 x 150102, nnz: 726674, density: 3.23e-05\n"
     ]
    }
   ],
   "source": [
    "import scipy.io\n",
    "A = scipy.io.loadmat(\"data/G2_circuit.mat\")[\"Problem\"][0][0][2]\n",
    "assert A.shape[0] == A.shape[1]\n",
    "n = A.shape[0]\n",
    "print(\"{} x {}, nnz: {}, density: {:.3}\".format(n, n, A.nnz, A.nnz / float(n**2)))\n",
    "b = np.random.random(n)"
   ]
  },
  {
   "cell_type": "markdown",
   "metadata": {
    "id": "u0V4bMCh3BJK"
   },
   "source": [
    "Примените какой-нибудь (на ваш выбор) из реализованных выше методов простой итерации к данной задаче. При запуске ограничьте максимальное число итераций с помощью параметра `max_iter`. Сделайте выводы."
   ]
  },
  {
   "cell_type": "code",
   "execution_count": 39,
   "metadata": {
    "id": "uSf39OBY3tl5"
   },
   "outputs": [
    {
     "name": "stdout",
     "output_type": "stream",
     "text": [
      "Runtime: 63.42 secs (0.00 preparation + 63.42 iters)\n"
     ]
    },
    {
     "data": {
      "image/png": "[encoded data removed]",
      "text/plain": [
       "<Figure size 432x288 with 1 Axes>"
      ]
     },
     "metadata": {
      "needs_background": "light"
     },
     "output_type": "display_data"
    }
   ],
   "source": [
    "_ = run_solver(simple_iteration, A, b, lambda: make_steepest_descent_get_dx(A), max_iter=5000)"
   ]
  },
  {
   "cell_type": "markdown",
   "metadata": {
    "id": "A0SYc5gc30R6"
   },
   "source": [
    "##### У нас есть теорема о сходимости наискорейшего спуска, которая говорит, что для симметричной положительно определенной матрицы (А - такая) коэффициент, с которым изменяется ошибка: $\\dfrac{cond_2(A) - 1}{cond_2(A) + 1}$. У большой разреженной матрицы есть риск иметь очень большой интервал между максимальным и минимальным сингулярными значениями, а следовательно, число обусловленности может быть настолько большим, что этот коэффициент близок к единице, что как раз проиллюстрировано на графике сходимости. Имеется в виду, что со временем невязка почти не меняется. "
   ]
  },
  {
   "cell_type": "markdown",
   "metadata": {
    "id": "Ae2Xzpxe_x7a"
   },
   "source": [
    "В следующем практическом ДЗ мы попробуем применить к этим же задачам метод сопряжённых градиентов и прочие крыловские методы."
   ]
  }
 ],
 "metadata": {
  "colab": {
   "name": "hw4_practice_fmatcomp22.ipynb",
   "provenance": []
  },
  "kernelspec": {
   "display_name": "Python 3",
   "language": "python",
   "name": "python3"
  },
  "language_info": {
   "codemirror_mode": {
    "name": "ipython",
    "version": 3
   },
   "file_extension": ".py",
   "mimetype": "text/x-python",
   "name": "python",
   "nbconvert_exporter": "python",
   "pygments_lexer": "ipython3",
   "version": "3.8.8"
  }
 },
 "nbformat": 4,
 "nbformat_minor": 1
}
